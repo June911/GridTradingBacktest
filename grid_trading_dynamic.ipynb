{
 "cells": [
  {
   "cell_type": "markdown",
   "metadata": {},
   "source": [
    "### 网格交易回测\n",
    "简单动态等差网格\n",
    "\n",
    "策略逻辑\n",
    "- 假设初始资金量为w0，网格数量为n_grid，网格距离为d_grid，maker交易手续费为tx\n",
    "- 初始每个网格, limit单的资金量为 w0/n_grid\n",
    "- 根据当前1分钟的close价格（c_t0），上下摆limit单\n",
    "- 下1分钟的close(c_t1)和c_t0之间的limit单，视为成交\n",
    "- 记录当前仓位w_t1，每一次价格变化，网格重新发生变化。\n",
    "\n",
    "\n",
    "\n",
    "参数：\n",
    "- 网格数量\n",
    "- 每个网格的距离\n",
    "- 交易手续费"
   ]
  },
  {
   "cell_type": "markdown",
   "metadata": {},
   "source": [
    "\n",
    "    "
   ]
  },
  {
   "cell_type": "code",
   "execution_count": null,
   "metadata": {},
   "outputs": [],
   "source": []
  },
  {
   "cell_type": "code",
   "execution_count": 3,
   "metadata": {},
   "outputs": [],
   "source": [
    "import numpy as np \n",
    "import pandas as pd"
   ]
  },
  {
   "cell_type": "code",
   "execution_count": 11,
   "metadata": {},
   "outputs": [
    {
     "data": {
      "text/plain": [
       "(array([ 9.7,  9.8,  9.9, 10. , 10.1, 10.2, 10.3]),\n",
       " [3]\n",
       " Categories (6, int64): [1 < 2 < 3 < 4 < 5 < 6])"
      ]
     },
     "execution_count": 11,
     "metadata": {},
     "output_type": "execute_result"
    }
   ],
   "source": [
    "center = 10\n",
    "band = np.array([0.97, 0.98, 0.99, 1, 1.01, 1.02, 1.03]) * center\n",
    "grid = pd.cut([10], band, labels=[1, 2, 3, 4, 5, 6])\n",
    "band, grid"
   ]
  },
  {
   "cell_type": "code",
   "execution_count": 19,
   "metadata": {},
   "outputs": [
    {
     "data": {
      "text/plain": [
       "[2]\n",
       "Categories (6, int64): [1 < 2 < 3 < 4 < 5 < 6]"
      ]
     },
     "execution_count": 19,
     "metadata": {},
     "output_type": "execute_result"
    }
   ],
   "source": [
    "band = np.array([0.97, 0.98, 0.99, 1, 1.01, 1.02, 1.03]) * center\n",
    "grid = pd.cut([9.9], band, labels=[1, 2, 3, 4, 5, 6])\n"
   ]
  },
  {
   "cell_type": "code",
   "execution_count": 20,
   "metadata": {},
   "outputs": [
    {
     "data": {
      "text/plain": [
       "[2, 3]"
      ]
     },
     "execution_count": 20,
     "metadata": {},
     "output_type": "execute_result"
    }
   ],
   "source": [
    "[2,3]"
   ]
  },
  {
   "cell_type": "code",
   "execution_count": 12,
   "metadata": {},
   "outputs": [
    {
     "data": {
      "text/plain": [
       "[(0.994, 3.0], (5.0, 7.0], (3.0, 5.0], (3.0, 5.0], (5.0, 7.0], (0.994, 3.0]]\n",
       "Categories (3, interval[float64, right]): [(0.994, 3.0] < (3.0, 5.0] < (5.0, 7.0]]"
      ]
     },
     "execution_count": 12,
     "metadata": {},
     "output_type": "execute_result"
    }
   ],
   "source": [
    "pd.cut(np.array([1, 7, 5, 4, 6, 3]), 3)"
   ]
  },
  {
   "cell_type": "code",
   "execution_count": 17,
   "metadata": {},
   "outputs": [
    {
     "data": {
      "text/plain": [
       "(a      2\n",
       " b      3\n",
       " c      4\n",
       " d      5\n",
       " e    NaN\n",
       " dtype: category\n",
       " Categories (5, int64): [1 < 2 < 3 < 4 < 5],\n",
       " array([ 0,  2,  4,  6,  8, 10]))"
      ]
     },
     "execution_count": 17,
     "metadata": {},
     "output_type": "execute_result"
    }
   ],
   "source": [
    "s = pd.Series(np.array([2, 4, 6, 8, 10]),\n",
    "              index=['a', 'b', 'c', 'd', 'e'])\n",
    "pd.cut(s, [0, 2, 4, 6, 8, 10], labels=[1, 2, 3, 4, 5], retbins=True, right=False)"
   ]
  }
 ],
 "metadata": {
  "interpreter": {
   "hash": "48441edff1f1bae7160f58d2c03e3e0b407948a6abe760649e1015bdd72356ab"
  },
  "kernelspec": {
   "display_name": "Python 3.9.5 64-bit",
   "language": "python",
   "name": "python3"
  },
  "language_info": {
   "codemirror_mode": {
    "name": "ipython",
    "version": 3
   },
   "file_extension": ".py",
   "mimetype": "text/x-python",
   "name": "python",
   "nbconvert_exporter": "python",
   "pygments_lexer": "ipython3",
   "version": "3.9.5"
  },
  "orig_nbformat": 4
 },
 "nbformat": 4,
 "nbformat_minor": 2
}
