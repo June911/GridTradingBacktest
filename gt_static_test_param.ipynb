{
 "cells": [
  {
   "cell_type": "markdown",
   "metadata": {},
   "source": [
    "## 网格 tick 数据统计\n",
    "- 每个tick价格变化的频率\n",
    "- 每次tick的时间间隔\n",
    "- heatmap"
   ]
  },
  {
   "cell_type": "code",
   "execution_count": 1,
   "metadata": {},
   "outputs": [],
   "source": [
    "import os \n",
    "import numpy as np \n",
    "import pandas as pd\n",
    "import matplotlib.pyplot as plt \n",
    "\n",
    "from IPython.utils import io\n",
    "from functions_processing_data import get_data\n",
    "from helpful_scripts import f_change_barperiod\n",
    "# from bt_grid import * \n",
    "from bt_grid_static import * "
   ]
  },
  {
   "cell_type": "code",
   "execution_count": 67,
   "metadata": {},
   "outputs": [
    {
     "data": {
      "text/html": [
       "<div>\n",
       "<style scoped>\n",
       "    .dataframe tbody tr th:only-of-type {\n",
       "        vertical-align: middle;\n",
       "    }\n",
       "\n",
       "    .dataframe tbody tr th {\n",
       "        vertical-align: top;\n",
       "    }\n",
       "\n",
       "    .dataframe thead th {\n",
       "        text-align: right;\n",
       "    }\n",
       "</style>\n",
       "<table border=\"1\" class=\"dataframe\">\n",
       "  <thead>\n",
       "    <tr style=\"text-align: right;\">\n",
       "      <th></th>\n",
       "      <th>id</th>\n",
       "      <th>close</th>\n",
       "      <th>qty</th>\n",
       "      <th>quoteQty</th>\n",
       "      <th>isBuyerMaker</th>\n",
       "    </tr>\n",
       "    <tr>\n",
       "      <th>time</th>\n",
       "      <th></th>\n",
       "      <th></th>\n",
       "      <th></th>\n",
       "      <th></th>\n",
       "      <th></th>\n",
       "    </tr>\n",
       "  </thead>\n",
       "  <tbody>\n",
       "    <tr>\n",
       "      <th>2022-04-21 00:00:00.135</th>\n",
       "      <td>161371915</td>\n",
       "      <td>41345.8</td>\n",
       "      <td>0.002</td>\n",
       "      <td>82.6</td>\n",
       "      <td>True</td>\n",
       "    </tr>\n",
       "    <tr>\n",
       "      <th>2022-04-21 00:00:00.135</th>\n",
       "      <td>161371916</td>\n",
       "      <td>41345.8</td>\n",
       "      <td>0.002</td>\n",
       "      <td>82.6</td>\n",
       "      <td>True</td>\n",
       "    </tr>\n",
       "    <tr>\n",
       "      <th>2022-04-21 00:00:00.135</th>\n",
       "      <td>161371917</td>\n",
       "      <td>41345.8</td>\n",
       "      <td>0.001</td>\n",
       "      <td>41.3</td>\n",
       "      <td>True</td>\n",
       "    </tr>\n",
       "    <tr>\n",
       "      <th>2022-04-21 00:00:00.856</th>\n",
       "      <td>161371918</td>\n",
       "      <td>41345.2</td>\n",
       "      <td>0.013</td>\n",
       "      <td>537.4</td>\n",
       "      <td>True</td>\n",
       "    </tr>\n",
       "    <tr>\n",
       "      <th>2022-04-21 00:00:00.856</th>\n",
       "      <td>161371919</td>\n",
       "      <td>41345.2</td>\n",
       "      <td>0.001</td>\n",
       "      <td>41.3</td>\n",
       "      <td>True</td>\n",
       "    </tr>\n",
       "    <tr>\n",
       "      <th>...</th>\n",
       "      <td>...</td>\n",
       "      <td>...</td>\n",
       "      <td>...</td>\n",
       "      <td>...</td>\n",
       "      <td>...</td>\n",
       "    </tr>\n",
       "    <tr>\n",
       "      <th>2022-04-21 23:59:59.879</th>\n",
       "      <td>162108375</td>\n",
       "      <td>40463.3</td>\n",
       "      <td>0.003</td>\n",
       "      <td>121.3</td>\n",
       "      <td>False</td>\n",
       "    </tr>\n",
       "    <tr>\n",
       "      <th>2022-04-21 23:59:59.879</th>\n",
       "      <td>162108376</td>\n",
       "      <td>40463.3</td>\n",
       "      <td>0.026</td>\n",
       "      <td>1052.0</td>\n",
       "      <td>False</td>\n",
       "    </tr>\n",
       "    <tr>\n",
       "      <th>2022-04-21 23:59:59.879</th>\n",
       "      <td>162108377</td>\n",
       "      <td>40463.3</td>\n",
       "      <td>0.043</td>\n",
       "      <td>1739.9</td>\n",
       "      <td>False</td>\n",
       "    </tr>\n",
       "    <tr>\n",
       "      <th>2022-04-21 23:59:59.879</th>\n",
       "      <td>162108378</td>\n",
       "      <td>40463.3</td>\n",
       "      <td>0.009</td>\n",
       "      <td>364.1</td>\n",
       "      <td>False</td>\n",
       "    </tr>\n",
       "    <tr>\n",
       "      <th>2022-04-21 23:59:59.879</th>\n",
       "      <td>162108379</td>\n",
       "      <td>40463.3</td>\n",
       "      <td>0.552</td>\n",
       "      <td>22335.7</td>\n",
       "      <td>False</td>\n",
       "    </tr>\n",
       "  </tbody>\n",
       "</table>\n",
       "<p>736462 rows × 5 columns</p>\n",
       "</div>"
      ],
      "text/plain": [
       "                                id    close    qty  quoteQty  isBuyerMaker\n",
       "time                                                                      \n",
       "2022-04-21 00:00:00.135  161371915  41345.8  0.002      82.6          True\n",
       "2022-04-21 00:00:00.135  161371916  41345.8  0.002      82.6          True\n",
       "2022-04-21 00:00:00.135  161371917  41345.8  0.001      41.3          True\n",
       "2022-04-21 00:00:00.856  161371918  41345.2  0.013     537.4          True\n",
       "2022-04-21 00:00:00.856  161371919  41345.2  0.001      41.3          True\n",
       "...                            ...      ...    ...       ...           ...\n",
       "2022-04-21 23:59:59.879  162108375  40463.3  0.003     121.3         False\n",
       "2022-04-21 23:59:59.879  162108376  40463.3  0.026    1052.0         False\n",
       "2022-04-21 23:59:59.879  162108377  40463.3  0.043    1739.9         False\n",
       "2022-04-21 23:59:59.879  162108378  40463.3  0.009     364.1         False\n",
       "2022-04-21 23:59:59.879  162108379  40463.3  0.552   22335.7         False\n",
       "\n",
       "[736462 rows x 5 columns]"
      ]
     },
     "execution_count": 67,
     "metadata": {},
     "output_type": "execute_result"
    }
   ],
   "source": [
    "# file_name = \"binance_futures_BTCUSDT_20220329_tick.csv\"\n",
    "# file_name = \"binance_futures_BTCUSDT_20220422_tick.csv\"\n",
    "# file_name = \"binance_futures_XRPUSDT_20220405_tick.csv\"\n",
    "\n",
    "file_name = \"BTCBUSD-trades-2022-04-21.csv\"\n",
    "# file_name = \"ETHBUSD-trades-2022-04-21.csv\"\n",
    "# file_name = \"XRPBUSD-trades-2022-04-21.csv\"\n",
    "\n",
    "\n",
    "\n",
    "\n",
    "if \"BTC\" in file_name:\n",
    "    price_precision = 1\n",
    "    tick_size = 0.1\n",
    "elif \"ETH\" in file_name:\n",
    "    price_precision = 2\n",
    "    tick_size = 0.01\n",
    "elif \"XRP\" in file_name:\n",
    "    price_precision = 4\n",
    "    tick_size = 0.0001\n",
    "\n",
    "# tick_size = 0.1\n",
    "# tick_size = 0.0001\n",
    "\n",
    "\n",
    "data_path = os.path.join(os.getcwd(), \"data\")\n",
    "df_data = pd.read_csv(\n",
    "            os.path.join(data_path, file_name),\n",
    "            names=[\"id\", \"close\", \"qty\", \"quoteQty\", \"time\", \"isBuyerMaker\"]\n",
    "        )\n",
    "# df_data = pd.read_csv(\n",
    "#             os.path.join(data_path, file_name), header=[0], index_col=[0]\n",
    "#         )\n",
    "df_data.set_index(\"time\", inplace=True)\n",
    "df_data.index = pd.to_datetime(df_data.index, unit=\"ms\")\n",
    "# df_data.rename(\n",
    "#             columns={\n",
    "#                 \"Time\": \"time\",\n",
    "#                 \"Open\": \"open\",\n",
    "#                 \"High\": \"high\",\n",
    "#                 \"Close\": \"close\",\n",
    "#                 \"Low\": \"low\",\n",
    "#                 \"Volume\": \"volume\",\n",
    "#                 \"price\": \"close\",\n",
    "#             },\n",
    "#             inplace=True,\n",
    "#         )\n",
    "df_data"
   ]
  },
  {
   "cell_type": "markdown",
   "metadata": {},
   "source": [
    "### 每个tick价格变化的频率"
   ]
  },
  {
   "cell_type": "code",
   "execution_count": 68,
   "metadata": {},
   "outputs": [
    {
     "data": {
      "text/plain": [
       "0.100      0.0\n",
       "0.200      0.0\n",
       "0.300      0.0\n",
       "0.400      0.0\n",
       "0.500      0.0\n",
       "0.600      0.0\n",
       "0.700      1.0\n",
       "0.800      1.0\n",
       "0.900      5.0\n",
       "0.950     10.0\n",
       "0.990     30.0\n",
       "0.999    118.0\n",
       "Name: dif_tick, dtype: float64"
      ]
     },
     "execution_count": 68,
     "metadata": {},
     "output_type": "execute_result"
    }
   ],
   "source": [
    "df_data.loc[:, \"dif_tick\"] = np.round(df_data.close.diff() / tick_size)\n",
    "lst_quantile = np.arange(0.1, 1, 0.1)\n",
    "lst_quantile = np.append(lst_quantile,[0.95, 0.99, 0.999])\n",
    "tick_change_quantile = df_data.dif_tick.abs().quantile(lst_quantile)\n",
    "tick_change_quantile"
   ]
  },
  {
   "cell_type": "markdown",
   "metadata": {},
   "source": [
    "### 每次tick的时间间隔的频率"
   ]
  },
  {
   "cell_type": "code",
   "execution_count": 69,
   "metadata": {},
   "outputs": [
    {
     "data": {
      "text/plain": [
       "0.100       0.00\n",
       "0.200       0.00\n",
       "0.300       0.00\n",
       "0.400       0.00\n",
       "0.500       0.00\n",
       "0.600       0.00\n",
       "0.700       1.00\n",
       "0.800      35.00\n",
       "0.900     230.00\n",
       "0.950     634.00\n",
       "0.990    2197.00\n",
       "0.999    6491.08\n",
       "Name: d_millseconds, dtype: float64"
      ]
     },
     "execution_count": 69,
     "metadata": {},
     "output_type": "execute_result"
    }
   ],
   "source": [
    "# time to millseconds \n",
    "df_data.loc[:, \"millseconds\"] = df_data.index.view(np.int64) / int(1e6)\n",
    "\n",
    "# difference in millseconds\n",
    "df_data.loc[:, \"d_millseconds\"] = df_data.loc[:, \"millseconds\"].diff().round()\n",
    "\n",
    "time_change_quantile = df_data.d_millseconds.abs().quantile(lst_quantile)\n",
    "time_change_quantile\n"
   ]
  },
  {
   "cell_type": "code",
   "execution_count": 70,
   "metadata": {},
   "outputs": [],
   "source": [
    "# save \n",
    "df_frequency = pd.concat([tick_change_quantile, time_change_quantile], axis=1)\n",
    "df_frequency.index = df_frequency.index * 100\n",
    "df_frequency.to_excel(file_name.split(\".csv\")[0] + \"_fq.xlsx\")"
   ]
  },
  {
   "cell_type": "code",
   "execution_count": 72,
   "metadata": {},
   "outputs": [
    {
     "data": {
      "text/plain": [
       "Index(['dif_tick', 'd_millseconds'], dtype='object')"
      ]
     },
     "execution_count": 72,
     "metadata": {},
     "output_type": "execute_result"
    }
   ],
   "source": [
    "df_frequency.rename(\n",
    "    columns={\"dif_tick\": \"每个tick的价格变化\", \"d_millseconds\": \"每个tick的时间变化\"},\n",
    "    inplace=True\n",
    ")\n",
    "df_frequency.columns"
   ]
  },
  {
   "cell_type": "code",
   "execution_count": 73,
   "metadata": {},
   "outputs": [
    {
     "data": {
      "text/html": [
       "<div>\n",
       "<style scoped>\n",
       "    .dataframe tbody tr th:only-of-type {\n",
       "        vertical-align: middle;\n",
       "    }\n",
       "\n",
       "    .dataframe tbody tr th {\n",
       "        vertical-align: top;\n",
       "    }\n",
       "\n",
       "    .dataframe thead th {\n",
       "        text-align: right;\n",
       "    }\n",
       "</style>\n",
       "<table border=\"1\" class=\"dataframe\">\n",
       "  <thead>\n",
       "    <tr style=\"text-align: right;\">\n",
       "      <th></th>\n",
       "      <th>abs_dif_tick</th>\n",
       "      <th>d_millseconds</th>\n",
       "      <th>close</th>\n",
       "    </tr>\n",
       "  </thead>\n",
       "  <tbody>\n",
       "    <tr>\n",
       "      <th>0</th>\n",
       "      <td>1.0</td>\n",
       "      <td>0.0</td>\n",
       "      <td>57313</td>\n",
       "    </tr>\n",
       "    <tr>\n",
       "      <th>1</th>\n",
       "      <td>1.0</td>\n",
       "      <td>1.0</td>\n",
       "      <td>1373</td>\n",
       "    </tr>\n",
       "    <tr>\n",
       "      <th>2</th>\n",
       "      <td>1.0</td>\n",
       "      <td>2.0</td>\n",
       "      <td>554</td>\n",
       "    </tr>\n",
       "    <tr>\n",
       "      <th>3</th>\n",
       "      <td>1.0</td>\n",
       "      <td>3.0</td>\n",
       "      <td>469</td>\n",
       "    </tr>\n",
       "    <tr>\n",
       "      <th>4</th>\n",
       "      <td>1.0</td>\n",
       "      <td>4.0</td>\n",
       "      <td>432</td>\n",
       "    </tr>\n",
       "    <tr>\n",
       "      <th>...</th>\n",
       "      <td>...</td>\n",
       "      <td>...</td>\n",
       "      <td>...</td>\n",
       "    </tr>\n",
       "    <tr>\n",
       "      <th>20009</th>\n",
       "      <td>1174.0</td>\n",
       "      <td>0.0</td>\n",
       "      <td>1</td>\n",
       "    </tr>\n",
       "    <tr>\n",
       "      <th>20010</th>\n",
       "      <td>1264.0</td>\n",
       "      <td>0.0</td>\n",
       "      <td>1</td>\n",
       "    </tr>\n",
       "    <tr>\n",
       "      <th>20011</th>\n",
       "      <td>1460.0</td>\n",
       "      <td>0.0</td>\n",
       "      <td>1</td>\n",
       "    </tr>\n",
       "    <tr>\n",
       "      <th>20012</th>\n",
       "      <td>1462.0</td>\n",
       "      <td>1.0</td>\n",
       "      <td>1</td>\n",
       "    </tr>\n",
       "    <tr>\n",
       "      <th>20013</th>\n",
       "      <td>1478.0</td>\n",
       "      <td>0.0</td>\n",
       "      <td>1</td>\n",
       "    </tr>\n",
       "  </tbody>\n",
       "</table>\n",
       "<p>20014 rows × 3 columns</p>\n",
       "</div>"
      ],
      "text/plain": [
       "       abs_dif_tick  d_millseconds  close\n",
       "0               1.0            0.0  57313\n",
       "1               1.0            1.0   1373\n",
       "2               1.0            2.0    554\n",
       "3               1.0            3.0    469\n",
       "4               1.0            4.0    432\n",
       "...             ...            ...    ...\n",
       "20009        1174.0            0.0      1\n",
       "20010        1264.0            0.0      1\n",
       "20011        1460.0            0.0      1\n",
       "20012        1462.0            1.0      1\n",
       "20013        1478.0            0.0      1\n",
       "\n",
       "[20014 rows x 3 columns]"
      ]
     },
     "execution_count": 73,
     "metadata": {},
     "output_type": "execute_result"
    }
   ],
   "source": [
    "# 三维图\n",
    "df_data.loc[:, \"abs_dif_tick\"] = df_data.loc[:, \"dif_tick\"].abs()\n",
    "df_data = df_data.loc[df_data.loc[:, \"abs_dif_tick\"]>0,:]\n",
    "count = df_data.groupby([\"abs_dif_tick\",\"d_millseconds\"]).count().close.reset_index()\n",
    "count"
   ]
  },
  {
   "cell_type": "code",
   "execution_count": 74,
   "metadata": {},
   "outputs": [
    {
     "data": {
      "text/plain": [
       "Text(0.5, 1.0, 'R1')"
      ]
     },
     "execution_count": 74,
     "metadata": {},
     "output_type": "execute_result"
    },
    {
     "data": {
      "image/png": "[encoded data removed]",
      "text/plain": [
       "<Figure size 432x288 with 2 Axes>"
      ]
     },
     "metadata": {
      "needs_background": "light"
     },
     "output_type": "display_data"
    }
   ],
   "source": [
    "import seaborn as sns\n",
    "\n",
    "piv = pd.pivot_table(\n",
    "    count,\n",
    "    values=\"close\",\n",
    "    index=[\"abs_dif_tick\"],\n",
    "    columns=[\"d_millseconds\"],\n",
    "    fill_value=0,\n",
    ")\n",
    "# piv.iloc[:100, :100]\n",
    "\n",
    "plt.figure()\n",
    "sns.heatmap(piv.iloc[:20, :20])\n",
    "plt.title(\"R1\")\n"
   ]
  },
  {
   "cell_type": "code",
   "execution_count": 55,
   "metadata": {},
   "outputs": [
    {
     "data": {
      "text/plain": [
       "Text(0.5, 1.0, 'R1')"
      ]
     },
     "execution_count": 55,
     "metadata": {},
     "output_type": "execute_result"
    },
    {
     "data": {
      "image/png": "[encoded data removed]",
      "text/plain": [
       "<Figure size 432x288 with 2 Axes>"
      ]
     },
     "metadata": {
      "needs_background": "light"
     },
     "output_type": "display_data"
    }
   ],
   "source": []
  },
  {
   "cell_type": "code",
   "execution_count": 35,
   "metadata": {},
   "outputs": [
    {
     "data": {
      "text/plain": [
       "array([[0., 2., 0., 0., 0., 0., 0., 0., 0., 0., 0., 0., 0., 0., 0., 0.,\n",
       "        0., 0., 0., 0., 0., 0., 1., 0.],\n",
       "       [0., 0., 1., 0., 0., 0., 0., 0., 0., 0., 0., 0., 0., 0., 0., 0.,\n",
       "        0., 0., 0., 1., 0., 0., 0., 0.],\n",
       "       [0., 0., 0., 0., 0., 0., 0., 0., 0., 1., 0., 0., 0., 0., 0., 0.,\n",
       "        0., 0., 0., 0., 0., 1., 0., 0.],\n",
       "       [0., 0., 0., 0., 0., 0., 0., 0., 0., 0., 0., 1., 0., 0., 0., 0.,\n",
       "        0., 0., 0., 0., 0., 1., 0., 0.],\n",
       "       [0., 0., 0., 0., 0., 0., 0., 0., 0., 0., 0., 0., 0., 0., 0., 1.,\n",
       "        0., 0., 0., 0., 0., 0., 0., 0.]])"
      ]
     },
     "execution_count": 35,
     "metadata": {},
     "output_type": "execute_result"
    }
   ],
   "source": [
    "Z"
   ]
  },
  {
   "cell_type": "code",
   "execution_count": 29,
   "metadata": {},
   "outputs": [
    {
     "data": {
      "image/png": "[encoded data removed]",
      "text/plain": [
       "<Figure size 432x288 with 1 Axes>"
      ]
     },
     "metadata": {
      "needs_background": "light"
     },
     "output_type": "display_data"
    }
   ],
   "source": [
    "from matplotlib import pyplot as plt\n",
    "from matplotlib.ticker import MaxNLocator\n",
    "import pandas as pd\n",
    "import numpy as np\n",
    "\n",
    "#test data \n",
    "np.random.seed(123)\n",
    "n = 10\n",
    "start = pd.to_datetime(\"2021-04-21\")\n",
    "end = pd.to_datetime(\"2021-04-23\")\n",
    "n_minut = ((end - start).days + 1) * 24 * 60\n",
    "date_range = pd.to_timedelta(np.random.randint(0, n_minut, n), unit=\"minute\") + start\n",
    "df = pd.DataFrame({\"time\": date_range, \"event type\": np.random.choice(list(\"abcde\"), n)})\n",
    "\n",
    "#count event types per hour\n",
    "plot_df = df. groupby([df[\"time\"].dt.hour, df[\"event type\"]]).size().reset_index(name=\"event count\")\n",
    "#transcribe categorical data in column \"event type\" into integer values\n",
    "#idx contains the list of event types according to their integer numbers\n",
    "val, idx = plot_df[\"event type\"].factorize()\n",
    "plot_df[\"event_num\"] = val\n",
    "\n",
    "#generate evenly spaced x- and y-values\n",
    "x_range = np.arange(24)\n",
    "y_range = np.arange(idx.size)\n",
    "\n",
    "#and create x-y arrays for the 3D plot\n",
    "X, Y = np.meshgrid(x_range, y_range)\n",
    "#and fill z-values with zeros\n",
    "Z = np.zeros(X.shape)\n",
    "#or the event count, if exists\n",
    "Z[plot_df[\"event_num\"], plot_df[\"time\"]] = plot_df[\"event count\"] \n",
    "\n",
    "#create figure with a 3D projection axis\n",
    "fig = plt.figure()\n",
    "ax = fig.add_subplot(111, projection=\"3d\")\n",
    "\n",
    "ax.plot_surface(X, Y, Z)\n",
    "\n",
    "ax.zaxis.set_major_locator(MaxNLocator(integer=True))\n",
    "ax.set_yticks(y_range, idx)\n",
    "ax.set_ylabel(\"event type\")\n",
    "ax.set_xlabel(\"time (in h)\")\n",
    "ax.set_zlabel(\"count\")\n",
    "\n",
    "plt.show()"
   ]
  },
  {
   "cell_type": "code",
   "execution_count": 82,
   "metadata": {},
   "outputs": [
    {
     "name": "stdout",
     "output_type": "stream",
     "text": [
      "quantile 99 in seconds: 0.777\n",
      "quantile 99.9 in seconds: 1.43200048828125\n"
     ]
    },
    {
     "data": {
      "image/png": "[encoded data removed]",
      "text/plain": [
       "<Figure size 432x288 with 1 Axes>"
      ]
     },
     "metadata": {
      "needs_background": "light"
     },
     "output_type": "display_data"
    }
   ],
   "source": [
    "# tick 的时长分布\n",
    "# pd.to_datetime(df_data.index, type='ms')\n",
    "\n",
    "# time to millseconds \n",
    "df_data.loc[:, \"millseconds\"] = df_data.index.view(np.int64) / int(1e6)\n",
    "\n",
    "# difference in millseconds\n",
    "df_data.loc[:, \"d_millseconds\"] = df_data.loc[:, \"millseconds\"].diff()\n",
    "\n",
    "# plot \n",
    "df_data.loc[:, \"d_millseconds\"].plot(kind = 'hist', bins = 200)\n",
    "\n",
    "print(f\"quantile 99 in seconds: {df_data.d_millseconds.quantile(0.99) /1000}\")\n",
    "print(f\"quantile 99.9 in seconds: {df_data.d_millseconds.quantile(0.999) /1000}\")"
   ]
  },
  {
   "cell_type": "markdown",
   "metadata": {},
   "source": [
    "上下区间：\n",
    "- 不会一瞬间跳出区间 [1s的价格变化 < 区间宽度] \n",
    "- 无线网格，其实一直在上下区间摆着的，只要有价格更新，就在上下区间摆单"
   ]
  },
  {
   "cell_type": "code",
   "execution_count": 91,
   "metadata": {},
   "outputs": [
    {
     "name": "stdout",
     "output_type": "stream",
     "text": [
      "95%: 1.5708075952537424\n",
      "99%: 3.0488234984990075\n",
      "99.9%: 6.386210900614823\n",
      "99.999%: 15.87818783363715\n",
      "max: 26.649721079445854\n"
     ]
    }
   ],
   "source": [
    "# 1s bps变换\n",
    "df_data_grouped = f_change_barperiod(df_data,\"s\")\n",
    "df_data_grouped.loc[:, \"pct_change_in_bps\"] = df_data_grouped.loc[:, \"close\"].pct_change() * 10000\n",
    "\n",
    "# 分布\n",
    "print(f\"95%: {df_data_grouped.pct_change_in_bps.abs().quantile(0.95)}\")\n",
    "print(f\"99%: {df_data_grouped.pct_change_in_bps.abs().quantile(0.99)}\")\n",
    "print(f\"99.9%: {df_data_grouped.pct_change_in_bps.abs().quantile(0.999)}\")\n",
    "print(f\"99.999%: {df_data_grouped.pct_change_in_bps.abs().quantile(0.9999)}\")\n",
    "print(f\"max: {df_data_grouped.pct_change_in_bps.abs().max()}\")\n",
    "\n",
    "# # 1s tick变换\n",
    "# df_data_grouped = f_change_barperiod(df_data,\"S\")\n",
    "# df_data_grouped.loc[:, \"dif_tick\"] = np.round(df_data_grouped.close.diff() / tick_size)\n",
    "\n",
    "# # 分布\n",
    "# print(f\"95%: {df_data_grouped.dif_tick.abs().quantile(0.95)}\")\n",
    "# print(f\"99%: {df_data_grouped.dif_tick.abs().quantile(0.99)}\")\n",
    "# print(f\"99.9%: {df_data_grouped.dif_tick.abs().quantile(0.999)}\")\n",
    "# print(f\"99.999%: {df_data_grouped.dif_tick.abs().quantile(0.9999)}\")\n",
    "# print(f\"max: {df_data_grouped.dif_tick.abs().max()}\")"
   ]
  },
  {
   "cell_type": "code",
   "execution_count": 84,
   "metadata": {},
   "outputs": [],
   "source": [
    "# file_name = \"binance_futures_BTCUSDT_20200101_20220322.csv\"\n",
    "# df_data = get_data(file_name)\n",
    "# df_data = df_data.loc[df_data.index > pd.to_datetime(\"2021/6/1\"), :]\n",
    "\n",
    "# # groupy by 1 hour \n",
    "# df_data_grouped = f_change_barperiod(df_data,\"H\")\n",
    "# df_data_grouped.loc[:, \"pct_change_in_bps\"] = df_data_grouped.loc[:, \"close\"].pct_change()\n",
    "\n",
    "# # 分布\n",
    "# print(f\"95%: {df_data_grouped.pct_change_in_bps.abs().quantile(0.95)}\")\n",
    "# print(f\"99%: {df_data_grouped.pct_change_in_bps.abs().quantile(0.99)}\")\n",
    "# print(f\"99.9%: {df_data_grouped.pct_change_in_bps.abs().quantile(0.999)}\")\n",
    "# print(f\"99.999%: {df_data_grouped.pct_change_in_bps.abs().quantile(0.9999)}\")"
   ]
  },
  {
   "cell_type": "markdown",
   "metadata": {},
   "source": [
    "网格密度：\n",
    "- 不能低于最小 ticksize （e.g., BTCUSDT 0.1,  XRPUSDT 0.0001）\n",
    "- 在xx延迟情况下，网格密度 > 99%价格变化；或者网格密度 > 市价单的手续费。"
   ]
  },
  {
   "cell_type": "code",
   "execution_count": 92,
   "metadata": {},
   "outputs": [
    {
     "name": "stdout",
     "output_type": "stream",
     "text": [
      "95%: 50.0\n",
      "99%: 103.0\n",
      "99.9%: 223.07600000003004\n",
      "99.999%: 551.8455999998259\n",
      "max: 1569.0\n"
     ]
    }
   ],
   "source": [
    "# \n",
    "df_data_grouped = f_change_barperiod(df_data,\"500ms\")\n",
    "df_data_grouped.loc[:, \"dif_tick\"] = np.round(df_data_grouped.close.diff() / tick_size)\n",
    "\n",
    "# 分布\n",
    "print(f\"95%: {df_data_grouped.dif_tick.abs().quantile(0.95)}\")\n",
    "print(f\"99%: {df_data_grouped.dif_tick.abs().quantile(0.99)}\")\n",
    "print(f\"99.9%: {df_data_grouped.dif_tick.abs().quantile(0.999)}\")\n",
    "print(f\"99.999%: {df_data_grouped.dif_tick.abs().quantile(0.9999)}\")\n",
    "print(f\"max: {df_data_grouped.dif_tick.abs().max()}\")"
   ]
  },
  {
   "cell_type": "code",
   "execution_count": 103,
   "metadata": {},
   "outputs": [
    {
     "data": {
      "text/plain": [
       "154.8000000000029"
      ]
     },
     "execution_count": 103,
     "metadata": {},
     "output_type": "execute_result"
    }
   ],
   "source": [
    "np.max(df_data_grouped.close.diff().abs())"
   ]
  },
  {
   "cell_type": "code",
   "execution_count": 105,
   "metadata": {},
   "outputs": [
    {
     "name": "stdout",
     "output_type": "stream",
     "text": [
      "95%: 32.0\n",
      "99%: 62.0\n",
      "99.9%: 147.0\n",
      "99.999%: 400.71799999964423\n",
      "max: 1548.0\n"
     ]
    }
   ],
   "source": [
    "# \n",
    "df_data_grouped = f_change_barperiod(df_data,\"100ms\")\n",
    "df_data_grouped.loc[:, \"dif_tick\"] = np.round(df_data_grouped.close.diff() / tick_size)\n",
    "\n",
    "# 分布\n",
    "print(f\"95%: {df_data_grouped.dif_tick.abs().quantile(0.95)}\")\n",
    "print(f\"99%: {df_data_grouped.dif_tick.abs().quantile(0.99)}\")\n",
    "print(f\"99.9%: {df_data_grouped.dif_tick.abs().quantile(0.999)}\")\n",
    "print(f\"99.999%: {df_data_grouped.dif_tick.abs().quantile(0.9999)}\")\n",
    "print(f\"max: {df_data_grouped.dif_tick.abs().max()}\")"
   ]
  }
 ],
 "metadata": {
  "interpreter": {
   "hash": "48441edff1f1bae7160f58d2c03e3e0b407948a6abe760649e1015bdd72356ab"
  },
  "kernelspec": {
   "display_name": "Python 3.9.5 64-bit",
   "language": "python",
   "name": "python3"
  },
  "language_info": {
   "codemirror_mode": {
    "name": "ipython",
    "version": 3
   },
   "file_extension": ".py",
   "mimetype": "text/x-python",
   "name": "python",
   "nbconvert_exporter": "python",
   "pygments_lexer": "ipython3",
   "version": "3.9.5"
  },
  "orig_nbformat": 4
 },
 "nbformat": 4,
 "nbformat_minor": 2
}
